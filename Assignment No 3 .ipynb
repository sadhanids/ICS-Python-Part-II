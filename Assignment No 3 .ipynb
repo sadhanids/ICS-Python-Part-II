{
 "cells": [
  {
   "cell_type": "markdown",
   "id": "512fcd50-d967-4cd9-9ee3-bb5c7361ec2d",
   "metadata": {},
   "source": [
    "## Assignment 3\n",
    "### Name : Gardi Lamahewage Sadhani Malsha De Silva\n",
    "#### Date : 11/02/2025\n"
   ]
  },
  {
   "cell_type": "markdown",
   "id": "413a2318-ffb7-4222-a891-cf3bea68461f",
   "metadata": {},
   "source": [
    "##### Question No 01\n",
    "##### Write a lambda expression to get the product of two numbers.\n",
    "\n",
    "\n",
    " ##### Run test for expression(5,6)\n",
    " ##### Output:30"
   ]
  },
  {
   "cell_type": "code",
   "execution_count": 13,
   "id": "e987c1f8-8048-45d9-b768-68fc16d3a70e",
   "metadata": {},
   "outputs": [
    {
     "data": {
      "text/plain": [
       "30"
      ]
     },
     "execution_count": 13,
     "metadata": {},
     "output_type": "execute_result"
    }
   ],
   "source": [
    "no_of_apples = lambda num1,num2: num1*num2\n",
    "no_of_apples(5,6)"
   ]
  },
  {
   "cell_type": "markdown",
   "id": "580c28e6-071d-4850-9a6d-08ac477b0901",
   "metadata": {},
   "source": [
    "##### Question No 02\n",
    "##### Write a function to get the area of a circle from the radius. \n",
    "##### Hint: remember to import the right modul for being able to calculte the area of the circle.\n",
    "##### Run test for function(10)\n",
    "##### Output:314.1592653589793\n"
   ]
  },
  {
   "cell_type": "code",
   "execution_count": 5,
   "id": "4889c4be-c724-42f9-b3bc-02986346470b",
   "metadata": {},
   "outputs": [
    {
     "data": {
      "text/plain": [
       "314.1592653589793"
      ]
     },
     "execution_count": 5,
     "metadata": {},
     "output_type": "execute_result"
    }
   ],
   "source": [
    "# Area=π×r**2\n",
    "import math\n",
    "\n",
    "def area(radius):\n",
    "    return math.pi*radius**2\n",
    "\n",
    "radius = 10\n",
    "area_of_a_circle = area(radius)\n",
    "(area_of_a_circle)"
   ]
  },
  {
   "cell_type": "markdown",
   "id": "11afdb94-aec3-4a23-b475-ffa55ba5a204",
   "metadata": {},
   "source": [
    "##### Question No 03\n",
    "##### Build a simple calculator which can:add, subtract, multiply, divide. \n",
    "##### Hint: solve by writing a function that takes as argument two numbers and the operation and returns the desired output.\n",
    "##### Run test for function(2,5,’d’)\n",
    "##### Output: 0.4"
   ]
  },
  {
   "cell_type": "code",
   "execution_count": 6,
   "id": "3e9cf3dd-b579-413a-86dd-637e304f155c",
   "metadata": {},
   "outputs": [
    {
     "data": {
      "text/plain": [
       "0.4"
      ]
     },
     "execution_count": 6,
     "metadata": {},
     "output_type": "execute_result"
    }
   ],
   "source": [
    "def calculator(num_1, num_2, action):\n",
    "        if action == 'a':  \n",
    "            return num_1 + num_2\n",
    "        elif action == 's': \n",
    "            return num_1 - num_2\n",
    "        elif action == 'm':  \n",
    "            return num_1 * num_2\n",
    "        elif action == 'd':  \n",
    "            if num_2 == 0: \n",
    "                return \"An error has occurred due to division by zero\"\n",
    "            return num_1 / num_2\n",
    "        else:\n",
    "            return \"The action is not valid!\"\n",
    "            \n",
    "output = calculator(2, 5, 'd')\n",
    "(output)"
   ]
  },
  {
   "cell_type": "markdown",
   "id": "11252836-52ce-4a42-ab4a-14c09d5f5829",
   "metadata": {},
   "source": [
    "##### Question No 04\n",
    "##### Define a class named Rectangle which can be constructed by a length and width.\n",
    "##### The Rectangle class has a method which can compute the area.\n",
    "\n",
    "##### Run test for r = Rectangle(5,10)\n",
    "                \n",
    "##### r.area()\n",
    "\n",
    "##### Output: 50"
   ]
  },
  {
   "cell_type": "code",
   "execution_count": 7,
   "id": "76d98286-31a5-41e6-b62f-8bab37cc4e36",
   "metadata": {},
   "outputs": [
    {
     "data": {
      "text/plain": [
       "50"
      ]
     },
     "execution_count": 7,
     "metadata": {},
     "output_type": "execute_result"
    }
   ],
   "source": [
    "class Rectangle:\n",
    "    def __init__(self, length, width):\n",
    "        self.length = length\n",
    "        self.width = width\n",
    "\n",
    "    def area(self):\n",
    "        return self.length * self.width\n",
    "\n",
    "r = Rectangle(5, 10)\n",
    "(r.area())  "
   ]
  },
  {
   "cell_type": "markdown",
   "id": "bc0af8e5-8efa-4bb7-8f67-48427ba94621",
   "metadata": {},
   "source": [
    "##### Question No 05\n",
    "##### Define a class named Shape and its subclass Square. \n",
    "##### Shape objects can be consrtucted by name and length has an area function wich return 0 \n",
    "##### Square subclass has an init function which take a length and name as argument and has a n ar ea method and a describe method what prints the name of the Shape. \n",
    "##### P rint the area from Square class. \n",
    "##### Run test for : s = Square('square',5) \n",
    "               print(s.area()) \n",
    "               print(s.describe()) \n",
    "               Output: The area is:\n",
    "                  25\n",
    "               This is a: square"
   ]
  },
  {
   "cell_type": "code",
   "execution_count": 17,
   "id": "229613c5-6c37-4142-8920-3eaaa1b67b9a",
   "metadata": {},
   "outputs": [
    {
     "name": "stdout",
     "output_type": "stream",
     "text": [
      "The area is:\n",
      "25\n",
      "This is a: square\n"
     ]
    }
   ],
   "source": [
    "class Shape:\n",
    "    def __init__(self, name):\n",
    "        self.name = name  \n",
    "\n",
    "    def area(self):\n",
    "        return 0  \n",
    "\n",
    "\n",
    "class Square(Shape):\n",
    "    def __init__(self, name, length):\n",
    "        super().__init__(name)  \n",
    "        self.length = length  \n",
    "\n",
    "    def area(self):\n",
    "        return self.length * self.length  \n",
    "\n",
    "    def describe(self):\n",
    "        return f\"This is a: {self.name}\"  \n",
    "\n",
    "\n",
    "s = Square('square', 5)\n",
    "(\"The area is:\")\n",
    "prin(s.area())      \n",
    "print(s.describe())  "
   ]
  }
 ],
 "metadata": {
  "kernelspec": {
   "display_name": "Python 3 (ipykernel)",
   "language": "python",
   "name": "python3"
  },
  "language_info": {
   "codemirror_mode": {
    "name": "ipython",
    "version": 3
   },
   "file_extension": ".py",
   "mimetype": "text/x-python",
   "name": "python",
   "nbconvert_exporter": "python",
   "pygments_lexer": "ipython3",
   "version": "3.12.7"
  }
 },
 "nbformat": 4,
 "nbformat_minor": 5
}
